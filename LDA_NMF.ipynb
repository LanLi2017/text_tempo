{
 "cells": [
  {
   "cell_type": "code",
   "execution_count": 1,
   "metadata": {},
   "outputs": [],
   "source": [
    "from sklearn.datasets import fetch_20newsgroups\n",
    "from sklearn.decomposition import NMF, LatentDirichletAllocation\n",
    "from sklearn.feature_extraction.text import TfidfVectorizer,CountVectorizer\n",
    "import numpy as np"
   ]
  },
  {
   "cell_type": "code",
   "execution_count": 2,
   "metadata": {},
   "outputs": [],
   "source": [
    "dataset= fetch_20newsgroups(shuffle=True, random_state=1, remove=('header','footers','quotes'))\n",
    "documents=dataset.data\n"
   ]
  },
  {
   "cell_type": "code",
   "execution_count": 3,
   "metadata": {},
   "outputs": [],
   "source": [
    "# a tf-idf transformer is applied to the bag of words matrix that NMF must process with the TfidfVectorizer.\n",
    "# LDA on the other hand, being a probabilistic graphical model (dealing with probabilities) only requires raw counts\n",
    "# LDA => CountVectorizer\n",
    "\n",
    "no_features=1000\n"
   ]
  },
  {
   "cell_type": "code",
   "execution_count": 4,
   "metadata": {},
   "outputs": [],
   "source": [
    "# NMF is able to use tf-idf (Non-negative Matrix Factorization)\n",
    "tfidf_vectorizer=TfidfVectorizer(max_df=0.95, min_df=2, max_features=no_features, stop_words='english')\n",
    "tfidf=tfidf_vectorizer.fit_transform(documents)\n",
    "tfidf_feature_names=tfidf_vectorizer.get_feature_names()\n"
   ]
  },
  {
   "cell_type": "code",
   "execution_count": 5,
   "metadata": {},
   "outputs": [],
   "source": [
    "# LDA can only use raw term counts for LDA because it is a probabilistic graphical model\n",
    "tf_vectorizer=CountVectorizer(max_df=0.95, min_df=2, max_features=no_features, stop_words='english')\n",
    "tf=tfidf_vectorizer.fit_transform(documents)\n",
    "tf_feature_names=tfidf_vectorizer.get_feature_names()"
   ]
  },
  {
   "cell_type": "code",
   "execution_count": 6,
   "metadata": {},
   "outputs": [],
   "source": [
    "# initializing the W and H matrices in NMF with 'nndsvd' rather than random initialization improves the time\n",
    "# it takes for NMF to converge.\n",
    "no_topics=20\n",
    "# run NMF\n",
    "nmf_model=NMF(n_components=no_topics, random_state=1, alpha=.1, l1_ratio=.5, init='nndsvd').fit(tfidf)\n",
    "nmf_W=nmf_model.transform(tfidf)\n",
    "nmf_H=nmf_model.components_\n",
    "# run LDA\n",
    "lda_model=LatentDirichletAllocation(n_components=no_topics,max_iter=5, learning_method='online', learning_offset=50, random_state=0).fit(tf)\n",
    "lda_W=lda_model.transform(tf)\n",
    "lda_H=lda_model.components_"
   ]
  },
  {
   "cell_type": "code",
   "execution_count": 9,
   "metadata": {},
   "outputs": [],
   "source": [
    "\"\"\"\n",
    "both the words to topics matrix(H) and the topics to documents matrix (W) as arguments\n",
    "\"\"\"\n",
    "\n",
    "def display_topics(H,W,feature_names,no_top_words,no_top_documents):\n",
    "    for topic_idx, topic in enumerate(H):\n",
    "        print('Topic %d:'% topic_idx)\n",
    "        print(\" \".join([feature_names[i]\n",
    "                        for i in topic.argsort()[:-no_top_words - 1: -1]]))\n",
    "    top_doc_indices = np.argsort( W[:,topic_idx] )[::-1][0:no_top_documents]"
   ]
  },
  {
   "cell_type": "code",
   "execution_count": 10,
   "metadata": {},
   "outputs": [
    {
     "name": "stdout",
     "output_type": "stream",
     "text": [
      "NMF results:\n",
      "\n",
      "Topic 0:\n",
      "don just like think people\n",
      "Topic 1:\n",
      "edu nntp host posting university\n",
      "Topic 2:\n",
      "com posting nntp host hp\n",
      "Topic 3:\n",
      "windows file dos window files\n",
      "Topic 4:\n",
      "cs pitt gordon banks science\n",
      "Topic 5:\n",
      "nasa gov space center research\n",
      "Topic 6:\n",
      "ca canada university posting nntp\n",
      "Topic 7:\n",
      "god jesus bible christian christ\n",
      "Topic 8:\n",
      "key clipper chip encryption escrow\n",
      "Topic 9:\n",
      "cleveland cwru freenet reserve western\n",
      "Topic 10:\n",
      "sale 00 10 new distribution\n",
      "Topic 11:\n",
      "uk ac university newsreader host\n",
      "Topic 12:\n",
      "state ohio acs university edu\n",
      "Topic 13:\n",
      "access net communications online public\n",
      "Topic 14:\n",
      "drive scsi ide drives hard\n",
      "Topic 15:\n",
      "armenian armenians israel turkish serdar\n",
      "Topic 16:\n",
      "cc columbia edu utexas university\n",
      "Topic 17:\n",
      "virginia edu university israeli network\n",
      "Topic 18:\n",
      "netcom 408 services com online\n",
      "Topic 19:\n",
      "caltech keith institute technology california\n",
      "\n",
      "\n",
      "LDA results:\n",
      "\n",
      "Topic 0:\n",
      "rochester gm cc parts new\n",
      "Topic 1:\n",
      "virginia caltech edu sgi institute\n",
      "Topic 2:\n",
      "radio com university edu jim\n",
      "Topic 3:\n",
      "indiana moral edu university city\n",
      "Topic 4:\n",
      "utexas austin armenian armenians turkish\n",
      "Topic 5:\n",
      "ray request 02 03 04\n",
      "Topic 6:\n",
      "com posting nntp host uk\n",
      "Topic 7:\n",
      "edu people com don just\n",
      "Topic 8:\n",
      "edu windows com posting host\n",
      "Topic 9:\n",
      "cwru cleveland freenet western reserve\n",
      "Topic 10:\n",
      "andrew cmu pittsburgh edu engineering\n",
      "Topic 11:\n",
      "jesus god bible religion son\n",
      "Topic 12:\n",
      "washington jewish baseball players edu\n",
      "Topic 13:\n",
      "netcom 408 mit services widget\n",
      "Topic 14:\n",
      "pitt gordon banks hp cs\n",
      "Topic 15:\n",
      "columbia cc edu university peter\n",
      "Topic 16:\n",
      "edu university nntp host posting\n",
      "Topic 17:\n",
      "clipper key chip access encryption\n",
      "Topic 18:\n",
      "au mike tin newsreader com\n",
      "Topic 19:\n",
      "berkeley brian dec digital california\n"
     ]
    }
   ],
   "source": [
    "no_top_words=5\n",
    "no_top_documents=2\n",
    "print(\"NMF results:\\n\")\n",
    "display_topics(nmf_H,nmf_W,tf_feature_names,no_top_words,no_top_documents)\n",
    "print(\"\\n\")\n",
    "print(\"LDA results:\\n\")\n",
    "display_topics(lda_H,lda_W,tf_feature_names,no_top_words,no_top_documents)"
   ]
  },
  {
   "cell_type": "code",
   "execution_count": null,
   "metadata": {},
   "outputs": [],
   "source": []
  }
 ],
 "metadata": {
  "kernelspec": {
   "display_name": "Python 3",
   "language": "python",
   "name": "python3"
  },
  "language_info": {
   "codemirror_mode": {
    "name": "ipython",
    "version": 3
   },
   "file_extension": ".py",
   "mimetype": "text/x-python",
   "name": "python",
   "nbconvert_exporter": "python",
   "pygments_lexer": "ipython3",
   "version": "3.6.4"
  }
 },
 "nbformat": 4,
 "nbformat_minor": 2
}
